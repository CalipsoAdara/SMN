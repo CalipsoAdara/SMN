{
  "nbformat": 4,
  "nbformat_minor": 0,
  "metadata": {
    "colab": {
      "provenance": [],
      "authorship_tag": "ABX9TyP2ndPB1pjCWC2fnaWwYLje",
      "include_colab_link": true
    },
    "kernelspec": {
      "name": "python3",
      "display_name": "Python 3"
    },
    "language_info": {
      "name": "python"
    }
  },
  "cells": [
    {
      "cell_type": "markdown",
      "metadata": {
        "id": "view-in-github",
        "colab_type": "text"
      },
      "source": [
        "<a href=\"https://colab.research.google.com/github/CalipsoAdara/SMN/blob/verif_S2/Verif_CHIRPSvsGFS.ipynb\" target=\"_parent\"><img src=\"https://colab.research.google.com/assets/colab-badge.svg\" alt=\"Open In Colab\"/></a>"
      ]
    },
    {
      "cell_type": "markdown",
      "source": [
        "# Verificacion CHIRPS - GFS\n",
        "\n",
        "Codigo donde chequar los pronosticos de la semana 2 del GFS con la base de datos del CHIRPS"
      ],
      "metadata": {
        "id": "BwySrtB474Ju"
      }
    },
    {
      "cell_type": "code",
      "execution_count": null,
      "metadata": {
        "id": "U3P94TYE7exs"
      },
      "outputs": [],
      "source": []
    }
  ]
}