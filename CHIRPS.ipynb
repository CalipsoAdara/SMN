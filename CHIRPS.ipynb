{
  "nbformat": 4,
  "nbformat_minor": 0,
  "metadata": {
    "colab": {
      "provenance": [],
      "include_colab_link": true
    },
    "kernelspec": {
      "name": "python3",
      "display_name": "Python 3"
    },
    "language_info": {
      "name": "python"
    }
  },
  "cells": [
    {
      "cell_type": "markdown",
      "metadata": {
        "id": "view-in-github",
        "colab_type": "text"
      },
      "source": [
        "<a href=\"https://colab.research.google.com/github/CalipsoAdara/SMN/blob/verif_S2/CHIRPS.ipynb\" target=\"_parent\"><img src=\"https://colab.research.google.com/assets/colab-badge.svg\" alt=\"Open In Colab\"/></a>"
      ]
    },
    {
      "cell_type": "markdown",
      "source": [
        "# DESCARGA DE CHIRPS\n",
        "Codigo para descargar data diaria del CHIRPS, en formato NETCDF\n",
        "\n",
        "---\n",
        "\n",
        "[CHIRPS DATA GLOBAL](https://data.chc.ucsb.edu/products/CHIRPS-2.0/global_daily/)"
      ],
      "metadata": {
        "id": "QmtfNSwFYMzv"
      }
    },
    {
      "cell_type": "markdown",
      "source": [
        "## Instalacion e importar librerias necesarias"
      ],
      "metadata": {
        "id": "uPBBflj7Y6eO"
      }
    },
    {
      "cell_type": "code",
      "execution_count": 1,
      "metadata": {
        "id": "hIIO1FttgZqk",
        "colab": {
          "base_uri": "https://localhost:8080/",
          "height": 1000
        },
        "outputId": "30258f67-a919-4de2-d4c6-ee2cae8f1dfe"
      },
      "outputs": [
        {
          "output_type": "stream",
          "name": "stdout",
          "text": [
            "Looking in indexes: https://pypi.org/simple, https://us-python.pkg.dev/colab-wheels/public/simple/\n",
            "Requirement already satisfied: xarray in /usr/local/lib/python3.8/dist-packages (2022.12.0)\n",
            "Requirement already satisfied: pandas>=1.3 in /usr/local/lib/python3.8/dist-packages (from xarray) (1.3.5)\n",
            "Requirement already satisfied: numpy>=1.20 in /usr/local/lib/python3.8/dist-packages (from xarray) (1.21.6)\n",
            "Requirement already satisfied: packaging>=21.3 in /usr/local/lib/python3.8/dist-packages (from xarray) (23.0)\n",
            "Requirement already satisfied: pytz>=2017.3 in /usr/local/lib/python3.8/dist-packages (from pandas>=1.3->xarray) (2022.7.1)\n",
            "Requirement already satisfied: python-dateutil>=2.7.3 in /usr/local/lib/python3.8/dist-packages (from pandas>=1.3->xarray) (2.8.2)\n",
            "Requirement already satisfied: six>=1.5 in /usr/local/lib/python3.8/dist-packages (from python-dateutil>=2.7.3->pandas>=1.3->xarray) (1.15.0)\n",
            "Looking in indexes: https://pypi.org/simple, https://us-python.pkg.dev/colab-wheels/public/simple/\n",
            "Collecting cartopy\n",
            "  Downloading Cartopy-0.21.1.tar.gz (10.9 MB)\n",
            "\u001b[2K     \u001b[90m━━━━━━━━━━━━━━━━━━━━━━━━━━━━━━━━━━━━━━━━\u001b[0m \u001b[32m10.9/10.9 MB\u001b[0m \u001b[31m25.0 MB/s\u001b[0m eta \u001b[36m0:00:00\u001b[0m\n",
            "\u001b[?25h  Installing build dependencies ... \u001b[?25l\u001b[?25hdone\n",
            "  Getting requirements to build wheel ... \u001b[?25l\u001b[?25hdone\n",
            "  Preparing metadata (pyproject.toml) ... \u001b[?25l\u001b[?25hdone\n",
            "Requirement already satisfied: numpy>=1.18 in /usr/local/lib/python3.8/dist-packages (from cartopy) (1.21.6)\n",
            "Collecting pyproj>=3.0.0\n",
            "  Downloading pyproj-3.4.1-cp38-cp38-manylinux_2_17_x86_64.manylinux2014_x86_64.whl (7.8 MB)\n",
            "\u001b[2K     \u001b[90m━━━━━━━━━━━━━━━━━━━━━━━━━━━━━━━━━━━━━━━━\u001b[0m \u001b[32m7.8/7.8 MB\u001b[0m \u001b[31m62.8 MB/s\u001b[0m eta \u001b[36m0:00:00\u001b[0m\n",
            "\u001b[?25hRequirement already satisfied: matplotlib>=3.1 in /usr/local/lib/python3.8/dist-packages (from cartopy) (3.2.2)\n",
            "Requirement already satisfied: shapely>=1.6.4 in /usr/local/lib/python3.8/dist-packages (from cartopy) (2.0.1)\n",
            "Collecting pyshp>=2.1\n",
            "  Downloading pyshp-2.3.1-py2.py3-none-any.whl (46 kB)\n",
            "\u001b[2K     \u001b[90m━━━━━━━━━━━━━━━━━━━━━━━━━━━━━━━━━━━━━━━━\u001b[0m \u001b[32m46.5/46.5 KB\u001b[0m \u001b[31m4.9 MB/s\u001b[0m eta \u001b[36m0:00:00\u001b[0m\n",
            "\u001b[?25hRequirement already satisfied: cycler>=0.10 in /usr/local/lib/python3.8/dist-packages (from matplotlib>=3.1->cartopy) (0.11.0)\n",
            "Requirement already satisfied: kiwisolver>=1.0.1 in /usr/local/lib/python3.8/dist-packages (from matplotlib>=3.1->cartopy) (1.4.4)\n",
            "Requirement already satisfied: pyparsing!=2.0.4,!=2.1.2,!=2.1.6,>=2.0.1 in /usr/local/lib/python3.8/dist-packages (from matplotlib>=3.1->cartopy) (3.0.9)\n",
            "Requirement already satisfied: python-dateutil>=2.1 in /usr/local/lib/python3.8/dist-packages (from matplotlib>=3.1->cartopy) (2.8.2)\n",
            "Requirement already satisfied: certifi in /usr/local/lib/python3.8/dist-packages (from pyproj>=3.0.0->cartopy) (2022.12.7)\n",
            "Requirement already satisfied: six>=1.5 in /usr/local/lib/python3.8/dist-packages (from python-dateutil>=2.1->matplotlib>=3.1->cartopy) (1.15.0)\n",
            "Building wheels for collected packages: cartopy\n",
            "  Building wheel for cartopy (pyproject.toml) ... \u001b[?25l\u001b[?25hdone\n",
            "  Created wheel for cartopy: filename=Cartopy-0.21.1-cp38-cp38-linux_x86_64.whl size=11127992 sha256=313aebf556ea71de5a0864b779332c08f9fcaa7e83015bfc448d0ede522ba3ea\n",
            "  Stored in directory: /root/.cache/pip/wheels/7c/ff/6f/09e4aa53f4e67d6498ef1d33dd4ea9c8c165817b9ddcc31d28\n",
            "Successfully built cartopy\n",
            "Installing collected packages: pyshp, pyproj, cartopy\n",
            "Successfully installed cartopy-0.21.1 pyproj-3.4.1 pyshp-2.3.1\n",
            "Looking in indexes: https://pypi.org/simple, https://us-python.pkg.dev/colab-wheels/public/simple/\n",
            "Collecting shapely==1.8.5\n",
            "  Downloading Shapely-1.8.5-cp38-cp38-manylinux_2_12_x86_64.manylinux2010_x86_64.whl (2.1 MB)\n",
            "\u001b[2K     \u001b[90m━━━━━━━━━━━━━━━━━━━━━━━━━━━━━━━━━━━━━━━━\u001b[0m \u001b[32m2.1/2.1 MB\u001b[0m \u001b[31m23.7 MB/s\u001b[0m eta \u001b[36m0:00:00\u001b[0m\n",
            "\u001b[?25hInstalling collected packages: shapely\n",
            "  Attempting uninstall: shapely\n",
            "    Found existing installation: shapely 2.0.1\n",
            "    Uninstalling shapely-2.0.1:\n",
            "      Successfully uninstalled shapely-2.0.1\n",
            "Successfully installed shapely-1.8.5\n",
            "Looking in indexes: https://pypi.org/simple, https://us-python.pkg.dev/colab-wheels/public/simple/\n",
            "Collecting datetime\n",
            "\u001b[33m  WARNING: Retrying (Retry(total=4, connect=None, read=None, redirect=None, status=None)) after connection broken by 'ProtocolError('Connection aborted.', ConnectionResetError(104, 'Connection reset by peer'))': /packages/30/ff/03e2b71fbcdd6a084c2158cf2ecb0dbdde3cac0d974cf0815fcae79f6568/DateTime-5.0-py3-none-any.whl\u001b[0m\u001b[33m\n",
            "\u001b[0m  Downloading DateTime-5.0-py3-none-any.whl (52 kB)\n",
            "\u001b[2K     \u001b[90m━━━━━━━━━━━━━━━━━━━━━━━━━━━━━━━━━━━━━━━━\u001b[0m \u001b[32m52.1/52.1 KB\u001b[0m \u001b[31m2.1 MB/s\u001b[0m eta \u001b[36m0:00:00\u001b[0m\n",
            "\u001b[?25hCollecting zope.interface\n",
            "  Downloading zope.interface-5.5.2-cp38-cp38-manylinux_2_5_x86_64.manylinux1_x86_64.manylinux_2_12_x86_64.manylinux2010_x86_64.whl (261 kB)\n",
            "\u001b[2K     \u001b[90m━━━━━━━━━━━━━━━━━━━━━━━━━━━━━━━━━━━━━━━\u001b[0m \u001b[32m261.4/261.4 KB\u001b[0m \u001b[31m8.3 MB/s\u001b[0m eta \u001b[36m0:00:00\u001b[0m\n",
            "\u001b[?25hRequirement already satisfied: pytz in /usr/local/lib/python3.8/dist-packages (from datetime) (2022.7.1)\n",
            "Requirement already satisfied: setuptools in /usr/local/lib/python3.8/dist-packages (from zope.interface->datetime) (57.4.0)\n",
            "Installing collected packages: zope.interface, datetime\n",
            "Successfully installed datetime-5.0 zope.interface-5.5.2\n",
            "Looking in indexes: https://pypi.org/simple, https://us-python.pkg.dev/colab-wheels/public/simple/\n",
            "Collecting metpy\n",
            "  Downloading MetPy-1.4.0-py3-none-any.whl (387 kB)\n",
            "\u001b[2K     \u001b[90m━━━━━━━━━━━━━━━━━━━━━━━━━━━━━━━━━━━━━━━\u001b[0m \u001b[32m387.7/387.7 KB\u001b[0m \u001b[31m7.4 MB/s\u001b[0m eta \u001b[36m0:00:00\u001b[0m\n",
            "\u001b[?25hRequirement already satisfied: importlib-resources>=1.3.0 in /usr/local/lib/python3.8/dist-packages (from metpy) (5.10.2)\n",
            "Requirement already satisfied: pandas>=1.0.0 in /usr/local/lib/python3.8/dist-packages (from metpy) (1.3.5)\n",
            "Requirement already satisfied: traitlets>=5.0.5 in /usr/local/lib/python3.8/dist-packages (from metpy) (5.7.1)\n",
            "Requirement already satisfied: pooch>=1.2.0 in /usr/local/lib/python3.8/dist-packages (from metpy) (1.6.0)\n",
            "Requirement already satisfied: numpy>=1.18.0 in /usr/local/lib/python3.8/dist-packages (from metpy) (1.21.6)\n",
            "Collecting pint>=0.15\n",
            "  Downloading Pint-0.20.1-py3-none-any.whl (269 kB)\n",
            "\u001b[2K     \u001b[90m━━━━━━━━━━━━━━━━━━━━━━━━━━━━━━━━━━━━━━\u001b[0m \u001b[32m269.5/269.5 KB\u001b[0m \u001b[31m25.6 MB/s\u001b[0m eta \u001b[36m0:00:00\u001b[0m\n",
            "\u001b[?25hRequirement already satisfied: xarray>=0.18.0 in /usr/local/lib/python3.8/dist-packages (from metpy) (2022.12.0)\n",
            "Requirement already satisfied: pyproj>=2.6.1 in /usr/local/lib/python3.8/dist-packages (from metpy) (3.4.1)\n",
            "Collecting matplotlib>=3.3.0\n",
            "  Downloading matplotlib-3.7.0-cp38-cp38-manylinux_2_12_x86_64.manylinux2010_x86_64.whl (9.2 MB)\n",
            "\u001b[2K     \u001b[90m━━━━━━━━━━━━━━━━━━━━━━━━━━━━━━━━━━━━━━━━\u001b[0m \u001b[32m9.2/9.2 MB\u001b[0m \u001b[31m73.2 MB/s\u001b[0m eta \u001b[36m0:00:00\u001b[0m\n",
            "\u001b[?25hRequirement already satisfied: scipy>=1.4.0 in /usr/local/lib/python3.8/dist-packages (from metpy) (1.7.3)\n",
            "Requirement already satisfied: zipp>=3.1.0 in /usr/local/lib/python3.8/dist-packages (from importlib-resources>=1.3.0->metpy) (3.12.1)\n",
            "Requirement already satisfied: packaging>=20.0 in /usr/local/lib/python3.8/dist-packages (from matplotlib>=3.3.0->metpy) (23.0)\n",
            "Requirement already satisfied: pillow>=6.2.0 in /usr/local/lib/python3.8/dist-packages (from matplotlib>=3.3.0->metpy) (7.1.2)\n",
            "Collecting contourpy>=1.0.1\n",
            "  Downloading contourpy-1.0.7-cp38-cp38-manylinux_2_17_x86_64.manylinux2014_x86_64.whl (300 kB)\n",
            "\u001b[2K     \u001b[90m━━━━━━━━━━━━━━━━━━━━━━━━━━━━━━━━━━━━━━\u001b[0m \u001b[32m300.0/300.0 KB\u001b[0m \u001b[31m28.3 MB/s\u001b[0m eta \u001b[36m0:00:00\u001b[0m\n",
            "\u001b[?25hRequirement already satisfied: kiwisolver>=1.0.1 in /usr/local/lib/python3.8/dist-packages (from matplotlib>=3.3.0->metpy) (1.4.4)\n",
            "Requirement already satisfied: pyparsing>=2.3.1 in /usr/local/lib/python3.8/dist-packages (from matplotlib>=3.3.0->metpy) (3.0.9)\n",
            "Requirement already satisfied: python-dateutil>=2.7 in /usr/local/lib/python3.8/dist-packages (from matplotlib>=3.3.0->metpy) (2.8.2)\n",
            "Requirement already satisfied: cycler>=0.10 in /usr/local/lib/python3.8/dist-packages (from matplotlib>=3.3.0->metpy) (0.11.0)\n",
            "Collecting fonttools>=4.22.0\n",
            "  Downloading fonttools-4.38.0-py3-none-any.whl (965 kB)\n",
            "\u001b[2K     \u001b[90m━━━━━━━━━━━━━━━━━━━━━━━━━━━━━━━━━━━━━━\u001b[0m \u001b[32m965.4/965.4 KB\u001b[0m \u001b[31m53.3 MB/s\u001b[0m eta \u001b[36m0:00:00\u001b[0m\n",
            "\u001b[?25hRequirement already satisfied: pytz>=2017.3 in /usr/local/lib/python3.8/dist-packages (from pandas>=1.0.0->metpy) (2022.7.1)\n",
            "Requirement already satisfied: appdirs>=1.3.0 in /usr/local/lib/python3.8/dist-packages (from pooch>=1.2.0->metpy) (1.4.4)\n",
            "Requirement already satisfied: requests>=2.19.0 in /usr/local/lib/python3.8/dist-packages (from pooch>=1.2.0->metpy) (2.25.1)\n",
            "Requirement already satisfied: certifi in /usr/local/lib/python3.8/dist-packages (from pyproj>=2.6.1->metpy) (2022.12.7)\n",
            "Requirement already satisfied: six>=1.5 in /usr/local/lib/python3.8/dist-packages (from python-dateutil>=2.7->matplotlib>=3.3.0->metpy) (1.15.0)\n",
            "Requirement already satisfied: chardet<5,>=3.0.2 in /usr/local/lib/python3.8/dist-packages (from requests>=2.19.0->pooch>=1.2.0->metpy) (4.0.0)\n",
            "Requirement already satisfied: urllib3<1.27,>=1.21.1 in /usr/local/lib/python3.8/dist-packages (from requests>=2.19.0->pooch>=1.2.0->metpy) (1.24.3)\n",
            "Requirement already satisfied: idna<3,>=2.5 in /usr/local/lib/python3.8/dist-packages (from requests>=2.19.0->pooch>=1.2.0->metpy) (2.10)\n",
            "Installing collected packages: pint, fonttools, contourpy, matplotlib, metpy\n",
            "  Attempting uninstall: matplotlib\n",
            "    Found existing installation: matplotlib 3.2.2\n",
            "    Uninstalling matplotlib-3.2.2:\n",
            "      Successfully uninstalled matplotlib-3.2.2\n",
            "Successfully installed contourpy-1.0.7 fonttools-4.38.0 matplotlib-3.7.0 metpy-1.4.0 pint-0.20.1\n"
          ]
        },
        {
          "output_type": "display_data",
          "data": {
            "application/vnd.colab-display-data+json": {
              "pip_warning": {
                "packages": [
                  "matplotlib",
                  "mpl_toolkits"
                ]
              }
            }
          },
          "metadata": {}
        },
        {
          "output_type": "stream",
          "name": "stdout",
          "text": [
            "Looking in indexes: https://pypi.org/simple, https://us-python.pkg.dev/colab-wheels/public/simple/\n",
            "Collecting matplotlib==3.1.3\n",
            "  Downloading matplotlib-3.1.3-cp38-cp38-manylinux1_x86_64.whl (13.1 MB)\n",
            "\u001b[2K     \u001b[90m━━━━━━━━━━━━━━━━━━━━━━━━━━━━━━━━━━━━━━━━\u001b[0m \u001b[32m13.1/13.1 MB\u001b[0m \u001b[31m60.9 MB/s\u001b[0m eta \u001b[36m0:00:00\u001b[0m\n",
            "\u001b[?25hRequirement already satisfied: python-dateutil>=2.1 in /usr/local/lib/python3.8/dist-packages (from matplotlib==3.1.3) (2.8.2)\n",
            "Requirement already satisfied: kiwisolver>=1.0.1 in /usr/local/lib/python3.8/dist-packages (from matplotlib==3.1.3) (1.4.4)\n",
            "Requirement already satisfied: cycler>=0.10 in /usr/local/lib/python3.8/dist-packages (from matplotlib==3.1.3) (0.11.0)\n",
            "Requirement already satisfied: numpy>=1.11 in /usr/local/lib/python3.8/dist-packages (from matplotlib==3.1.3) (1.21.6)\n",
            "Requirement already satisfied: pyparsing!=2.0.4,!=2.1.2,!=2.1.6,>=2.0.1 in /usr/local/lib/python3.8/dist-packages (from matplotlib==3.1.3) (3.0.9)\n",
            "Requirement already satisfied: six>=1.5 in /usr/local/lib/python3.8/dist-packages (from python-dateutil>=2.1->matplotlib==3.1.3) (1.15.0)\n",
            "Installing collected packages: matplotlib\n",
            "  Attempting uninstall: matplotlib\n",
            "    Found existing installation: matplotlib 3.7.0\n",
            "    Uninstalling matplotlib-3.7.0:\n",
            "      Successfully uninstalled matplotlib-3.7.0\n",
            "\u001b[31mERROR: pip's dependency resolver does not currently take into account all the packages that are installed. This behaviour is the source of the following dependency conflicts.\n",
            "metpy 1.4.0 requires matplotlib>=3.3.0, but you have matplotlib 3.1.3 which is incompatible.\u001b[0m\u001b[31m\n",
            "\u001b[0mSuccessfully installed matplotlib-3.1.3\n",
            "Looking in indexes: https://pypi.org/simple, https://us-python.pkg.dev/colab-wheels/public/simple/\n",
            "Collecting wget\n",
            "  Downloading wget-3.2.zip (10 kB)\n",
            "  Preparing metadata (setup.py) ... \u001b[?25l\u001b[?25hdone\n",
            "Building wheels for collected packages: wget\n",
            "  Building wheel for wget (setup.py) ... \u001b[?25l\u001b[?25hdone\n",
            "  Created wheel for wget: filename=wget-3.2-py3-none-any.whl size=9674 sha256=06110dfcedcd8e3f7d825e7419c7560418dbd8581cb3519864a7b49ecf7b4752\n",
            "  Stored in directory: /root/.cache/pip/wheels/bd/a8/c3/3cf2c14a1837a4e04bd98631724e81f33f462d86a1d895fae0\n",
            "Successfully built wget\n",
            "Installing collected packages: wget\n",
            "Successfully installed wget-3.2\n"
          ]
        }
      ],
      "source": [
        "# instalar\n",
        "!pip install xarray\n",
        "!pip install cartopy\n",
        "!pip install shapely==1.8.5\n",
        "!pip install datetime\n",
        "!pip install metpy\n",
        "!pip install matplotlib==3.1.3\n",
        "!pip install wget"
      ]
    },
    {
      "cell_type": "code",
      "source": [
        "# importar\n",
        "import xarray as xr\n",
        "import numpy as np\n",
        "import matplotlib.pyplot as plt\n",
        "import os\n",
        "import osgeo.ogr\n",
        "import wget \n"
      ],
      "metadata": {
        "id": "smO4aJsyZQeo"
      },
      "execution_count": 2,
      "outputs": []
    },
    {
      "cell_type": "code",
      "source": [
        "# Montar drive  (esto se elimina al realizar el codigo en el server)\n",
        "from google.colab import drive\n",
        "drive.mount('/content/drive')\n",
        "os.chdir('./drive/MyDrive/Verifsem2')"
      ],
      "metadata": {
        "id": "iTQopMdNZYYn",
        "colab": {
          "base_uri": "https://localhost:8080/"
        },
        "outputId": "a670da85-a2c3-44ac-e9eb-3805a11002b2"
      },
      "execution_count": 3,
      "outputs": [
        {
          "output_type": "stream",
          "name": "stdout",
          "text": [
            "Mounted at /content/drive\n"
          ]
        }
      ]
    },
    {
      "cell_type": "markdown",
      "source": [
        "## Descarga de NETCDF por mes\n",
        "Todos los años, todos los meses. Desde 1981 a 2022"
      ],
      "metadata": {
        "id": "A7l9-_51gT6J"
      }
    },
    {
      "cell_type": "code",
      "source": [
        "# Descarga de netcdf por mes\n",
        "root = \"https://data.chc.ucsb.edu/products/CHIRPS-2.0/global_daily/netcdf/p05/by_month/\"\n",
        "\n",
        "# Periodo\n",
        "years = range(1981,2022+1)  # el +1 para que incluya el ultimo valor\n",
        "meses = range(1,12+1)\n",
        "\n",
        "\n",
        "# Nombre de los archivos\n",
        "filelist = [\"chirps-v2.0.\"+str(y) +\".\"+str(m)+\".days_p05.nc\" for y in years for m in meses]"
      ],
      "metadata": {
        "id": "EJGvLPllfBA7"
      },
      "execution_count": 4,
      "outputs": []
    },
    {
      "cell_type": "code",
      "source": [
        "# Restringir a sur de Sudamerica\n",
        "for f in filelist:\n",
        "\n",
        "  # Descargo\n",
        "  URL = root + f\n",
        "  response = wget.download(URL,f)\n",
        "\n",
        "  # Leo con xarray\n",
        "  ds = xr.open_dataarray(f)\n",
        "\n",
        "  # Selecciono cuadrado \n",
        "  ds_sa = ds.sel(latitude = slice(-49.75,-10.75), longitude = slice(-90.25,-29.75))  \n",
        "  #-50 a -10 y -90 a -30\n",
        "  # hay que tener en cuenta que para obtener los puntos en la longitud -30 hace la media  \n",
        "  # con valores que no tiene. NO es tan grave ya que ahi hay oceano y no hay info\n",
        "\n",
        "  # Guardo\n",
        "  ds_sa.to_netcdf(f[0:27] + \"_SA.nc\")"
      ],
      "metadata": {
        "id": "XpvyM_5S0rnl"
      },
      "execution_count": null,
      "outputs": []
    },
    {
      "cell_type": "code",
      "source": [
        "# Nombre de los archivos\n",
        "filelist = [\"chirps-v2.0.\"+str(y) +\".\"+str(m)+\".days_SA.nc\" for y in years for m in meses]\n",
        "filelist[1][0:26]"
      ],
      "metadata": {
        "colab": {
          "base_uri": "https://localhost:8080/",
          "height": 36
        },
        "id": "hozppype21Sx",
        "outputId": "23049a8b-7dbd-415e-9561-06a0ac598f4b"
      },
      "execution_count": 7,
      "outputs": [
        {
          "output_type": "execute_result",
          "data": {
            "text/plain": [
              "'chirps-v2.0.1981.2.days_SA'"
            ],
            "application/vnd.google.colaboratory.intrinsic+json": {
              "type": "string"
            }
          },
          "metadata": {},
          "execution_count": 7
        }
      ]
    },
    {
      "cell_type": "markdown",
      "source": [
        "####**Tema: Downscaling ⚡**\n",
        "\n",
        "Para poder comparar GFS y CHIRPS es necesario reducir la resolucion del CHIRPS de 0.05°x0.05° a la del GFS (0.5°x0.5°). Antes de realizar el downscaling, guardamos la data del CHIRPS correspondiente al cuadrado de SUDAMERICA.\n",
        "\n",
        "*0.05° ---> 0.5°*\n",
        "\n",
        "*osea, necesito **promediar** 10 pixeles de 0.05° para obtener 0.5°*\n",
        "\n",
        "Como vamos a reducir la resolucion, con la funcion \"coarse\" de XARRAY, es importante notar dos cosas. La *primera* que es necesario tener dimensiones pares. La *segunda*, que vamos a perder informacion en los bordes. Por ejemplo, como el CHIRPS solo llega hasta 50°S al downscalear vamos a perder medio grado de informacion.\n",
        "\n",
        "La region de Sudamerica deseada es:\n",
        "\n",
        "-latitud: de 50°S a 10°S\n",
        "\n",
        "-longitud: de 90°O a 30°O  (o 270° a 330°)\n",
        "\n",
        "Considerando eso, y que quiero que los valores al downscalear queden de la forma 90, 89.5, 89, 88.5 ,etc en vez de 90.75, 90.25, 89.75, 89.25, etc, el recorte del archivo chirps se hace: \n",
        "\n",
        "-latitud: de 49.75°S a 10.75°S\n",
        "\n",
        "-longitud: de 90.25°O a 29.75°O "
      ],
      "metadata": {
        "id": "dptXNnVyMz-W"
      }
    },
    {
      "cell_type": "markdown",
      "source": [
        "## Downscaling"
      ],
      "metadata": {
        "id": "K3q8qZjLaqYg"
      }
    },
    {
      "cell_type": "code",
      "source": [
        "# Nombre de los archivos\n",
        "filelist = [\"chirps-v2.0.\"+str(y) +\".\"+str(m)+\".days_SA.nc\" for y in years for m in meses]\n",
        "\n",
        "for f in filelist:\n",
        "  # Leo con xarray\n",
        "  ds = xr.open_dataarray(f)\n",
        "\n",
        "  # DOWNSCALING \n",
        "  ds_down = ds.coarsen(latitude=10, longitude=10).mean()\n",
        "\n",
        "  # Guardo\n",
        "  ds_sa.to_netcdf(f[0:26] + \"_down.nc\")"
      ],
      "metadata": {
        "id": "ylBNXeIBboDQ",
        "colab": {
          "base_uri": "https://localhost:8080/"
        },
        "outputId": "68e80dd3-d8fa-4db8-d548-edee791b74c3"
      },
      "execution_count": null,
      "outputs": [
        {
          "output_type": "stream",
          "name": "stdout",
          "text": [
            "Float64Index([-49.974998474121094,  -49.92499923706055,             -49.875,\n",
            "               -49.82499694824219,  -49.77499771118164, -49.724998474121094,\n",
            "               -49.67499923706055,             -49.625,  -49.57499694824219,\n",
            "               -49.52499771118164,\n",
            "              ...\n",
            "               49.524993896484375,   49.57499694824219,   49.62499237060547,\n",
            "                49.67499542236328,  49.724998474121094,  49.774993896484375,\n",
            "                49.82499694824219,   49.87499237060547,   49.92499542236328,\n",
            "               49.974998474121094],\n",
            "             dtype='float64', name='latitude', length=2000)\n"
          ]
        }
      ]
    },
    {
      "cell_type": "code",
      "source": [
        "ds_sa.shape"
      ],
      "metadata": {
        "colab": {
          "base_uri": "https://localhost:8080/"
        },
        "id": "YRArJv_mgx4b",
        "outputId": "2dc47b1a-1366-48ac-e1a2-707ce6bf49fc"
      },
      "execution_count": null,
      "outputs": [
        {
          "output_type": "execute_result",
          "data": {
            "text/plain": [
              "(31, 780, 1210)"
            ]
          },
          "metadata": {},
          "execution_count": 85
        }
      ]
    },
    {
      "cell_type": "code",
      "source": [
        "# DOWNSCALING \n",
        "ds_sa_down = ds_sa.coarsen(latitude=10, longitude=10).mean()\n",
        "ds_sa_down.shape"
      ],
      "metadata": {
        "colab": {
          "base_uri": "https://localhost:8080/"
        },
        "id": "qKsHBo_MgQjK",
        "outputId": "deec8a85-3cf8-40d0-a4be-c5bfd907c940"
      },
      "execution_count": null,
      "outputs": [
        {
          "output_type": "execute_result",
          "data": {
            "text/plain": [
              "(31, 78, 121)"
            ]
          },
          "metadata": {},
          "execution_count": 86
        }
      ]
    },
    {
      "cell_type": "code",
      "source": [
        "ds_sa_down"
      ],
      "metadata": {
        "colab": {
          "base_uri": "https://localhost:8080/",
          "height": 1000
        },
        "id": "AFo1KavlkVks",
        "outputId": "9685ffe2-1a53-4bcf-85e7-dc88658dfac7"
      },
      "execution_count": null,
      "outputs": [
        {
          "output_type": "execute_result",
          "data": {
            "text/plain": [
              "<xarray.DataArray 'precip' (time: 31, latitude: 78, longitude: 121)>\n",
              "array([[[nan, nan, nan, ..., nan, nan, nan],\n",
              "        [nan, nan, nan, ..., nan, nan, nan],\n",
              "        [nan, nan, nan, ..., nan, nan, nan],\n",
              "        ...,\n",
              "        [nan, nan, nan, ..., nan, nan, nan],\n",
              "        [nan, nan, nan, ..., nan, nan, nan],\n",
              "        [nan, nan, nan, ..., nan, nan, nan]],\n",
              "\n",
              "       [[nan, nan, nan, ..., nan, nan, nan],\n",
              "        [nan, nan, nan, ..., nan, nan, nan],\n",
              "        [nan, nan, nan, ..., nan, nan, nan],\n",
              "        ...,\n",
              "        [nan, nan, nan, ..., nan, nan, nan],\n",
              "        [nan, nan, nan, ..., nan, nan, nan],\n",
              "        [nan, nan, nan, ..., nan, nan, nan]],\n",
              "\n",
              "       [[nan, nan, nan, ..., nan, nan, nan],\n",
              "        [nan, nan, nan, ..., nan, nan, nan],\n",
              "        [nan, nan, nan, ..., nan, nan, nan],\n",
              "        ...,\n",
              "...\n",
              "        ...,\n",
              "        [nan, nan, nan, ..., nan, nan, nan],\n",
              "        [nan, nan, nan, ..., nan, nan, nan],\n",
              "        [nan, nan, nan, ..., nan, nan, nan]],\n",
              "\n",
              "       [[nan, nan, nan, ..., nan, nan, nan],\n",
              "        [nan, nan, nan, ..., nan, nan, nan],\n",
              "        [nan, nan, nan, ..., nan, nan, nan],\n",
              "        ...,\n",
              "        [nan, nan, nan, ..., nan, nan, nan],\n",
              "        [nan, nan, nan, ..., nan, nan, nan],\n",
              "        [nan, nan, nan, ..., nan, nan, nan]],\n",
              "\n",
              "       [[nan, nan, nan, ..., nan, nan, nan],\n",
              "        [nan, nan, nan, ..., nan, nan, nan],\n",
              "        [nan, nan, nan, ..., nan, nan, nan],\n",
              "        ...,\n",
              "        [nan, nan, nan, ..., nan, nan, nan],\n",
              "        [nan, nan, nan, ..., nan, nan, nan],\n",
              "        [nan, nan, nan, ..., nan, nan, nan]]], dtype=float32)\n",
              "Coordinates:\n",
              "  * latitude   (latitude) float32 -49.5 -49.0 -48.5 -48.0 ... -12.0 -11.5 -11.0\n",
              "  * longitude  (longitude) float32 -90.0 -89.5 -89.0 -88.5 ... -31.0 -30.5 -30.0\n",
              "  * time       (time) datetime64[ns] 2022-12-01 2022-12-02 ... 2022-12-31\n",
              "Attributes:\n",
              "    units:               mm/day\n",
              "    standard_name:       convective precipitation rate\n",
              "    long_name:           Climate Hazards group InfraRed Precipitation with St...\n",
              "    time_step:           day\n",
              "    geostatial_lat_min:  -50.0\n",
              "    geostatial_lat_max:  50.0\n",
              "    geostatial_lon_min:  -180.0\n",
              "    geostatial_lon_max:  180.0"
            ],
            "text/html": [
              "<div><svg style=\"position: absolute; width: 0; height: 0; overflow: hidden\">\n",
              "<defs>\n",
              "<symbol id=\"icon-database\" viewBox=\"0 0 32 32\">\n",
              "<path d=\"M16 0c-8.837 0-16 2.239-16 5v4c0 2.761 7.163 5 16 5s16-2.239 16-5v-4c0-2.761-7.163-5-16-5z\"></path>\n",
              "<path d=\"M16 17c-8.837 0-16-2.239-16-5v6c0 2.761 7.163 5 16 5s16-2.239 16-5v-6c0 2.761-7.163 5-16 5z\"></path>\n",
              "<path d=\"M16 26c-8.837 0-16-2.239-16-5v6c0 2.761 7.163 5 16 5s16-2.239 16-5v-6c0 2.761-7.163 5-16 5z\"></path>\n",
              "</symbol>\n",
              "<symbol id=\"icon-file-text2\" viewBox=\"0 0 32 32\">\n",
              "<path d=\"M28.681 7.159c-0.694-0.947-1.662-2.053-2.724-3.116s-2.169-2.030-3.116-2.724c-1.612-1.182-2.393-1.319-2.841-1.319h-15.5c-1.378 0-2.5 1.121-2.5 2.5v27c0 1.378 1.122 2.5 2.5 2.5h23c1.378 0 2.5-1.122 2.5-2.5v-19.5c0-0.448-0.137-1.23-1.319-2.841zM24.543 5.457c0.959 0.959 1.712 1.825 2.268 2.543h-4.811v-4.811c0.718 0.556 1.584 1.309 2.543 2.268zM28 29.5c0 0.271-0.229 0.5-0.5 0.5h-23c-0.271 0-0.5-0.229-0.5-0.5v-27c0-0.271 0.229-0.5 0.5-0.5 0 0 15.499-0 15.5 0v7c0 0.552 0.448 1 1 1h7v19.5z\"></path>\n",
              "<path d=\"M23 26h-14c-0.552 0-1-0.448-1-1s0.448-1 1-1h14c0.552 0 1 0.448 1 1s-0.448 1-1 1z\"></path>\n",
              "<path d=\"M23 22h-14c-0.552 0-1-0.448-1-1s0.448-1 1-1h14c0.552 0 1 0.448 1 1s-0.448 1-1 1z\"></path>\n",
              "<path d=\"M23 18h-14c-0.552 0-1-0.448-1-1s0.448-1 1-1h14c0.552 0 1 0.448 1 1s-0.448 1-1 1z\"></path>\n",
              "</symbol>\n",
              "</defs>\n",
              "</svg>\n",
              "<style>/* CSS stylesheet for displaying xarray objects in jupyterlab.\n",
              " *\n",
              " */\n",
              "\n",
              ":root {\n",
              "  --xr-font-color0: var(--jp-content-font-color0, rgba(0, 0, 0, 1));\n",
              "  --xr-font-color2: var(--jp-content-font-color2, rgba(0, 0, 0, 0.54));\n",
              "  --xr-font-color3: var(--jp-content-font-color3, rgba(0, 0, 0, 0.38));\n",
              "  --xr-border-color: var(--jp-border-color2, #e0e0e0);\n",
              "  --xr-disabled-color: var(--jp-layout-color3, #bdbdbd);\n",
              "  --xr-background-color: var(--jp-layout-color0, white);\n",
              "  --xr-background-color-row-even: var(--jp-layout-color1, white);\n",
              "  --xr-background-color-row-odd: var(--jp-layout-color2, #eeeeee);\n",
              "}\n",
              "\n",
              "html[theme=dark],\n",
              "body[data-theme=dark],\n",
              "body.vscode-dark {\n",
              "  --xr-font-color0: rgba(255, 255, 255, 1);\n",
              "  --xr-font-color2: rgba(255, 255, 255, 0.54);\n",
              "  --xr-font-color3: rgba(255, 255, 255, 0.38);\n",
              "  --xr-border-color: #1F1F1F;\n",
              "  --xr-disabled-color: #515151;\n",
              "  --xr-background-color: #111111;\n",
              "  --xr-background-color-row-even: #111111;\n",
              "  --xr-background-color-row-odd: #313131;\n",
              "}\n",
              "\n",
              ".xr-wrap {\n",
              "  display: block !important;\n",
              "  min-width: 300px;\n",
              "  max-width: 700px;\n",
              "}\n",
              "\n",
              ".xr-text-repr-fallback {\n",
              "  /* fallback to plain text repr when CSS is not injected (untrusted notebook) */\n",
              "  display: none;\n",
              "}\n",
              "\n",
              ".xr-header {\n",
              "  padding-top: 6px;\n",
              "  padding-bottom: 6px;\n",
              "  margin-bottom: 4px;\n",
              "  border-bottom: solid 1px var(--xr-border-color);\n",
              "}\n",
              "\n",
              ".xr-header > div,\n",
              ".xr-header > ul {\n",
              "  display: inline;\n",
              "  margin-top: 0;\n",
              "  margin-bottom: 0;\n",
              "}\n",
              "\n",
              ".xr-obj-type,\n",
              ".xr-array-name {\n",
              "  margin-left: 2px;\n",
              "  margin-right: 10px;\n",
              "}\n",
              "\n",
              ".xr-obj-type {\n",
              "  color: var(--xr-font-color2);\n",
              "}\n",
              "\n",
              ".xr-sections {\n",
              "  padding-left: 0 !important;\n",
              "  display: grid;\n",
              "  grid-template-columns: 150px auto auto 1fr 20px 20px;\n",
              "}\n",
              "\n",
              ".xr-section-item {\n",
              "  display: contents;\n",
              "}\n",
              "\n",
              ".xr-section-item input {\n",
              "  display: none;\n",
              "}\n",
              "\n",
              ".xr-section-item input + label {\n",
              "  color: var(--xr-disabled-color);\n",
              "}\n",
              "\n",
              ".xr-section-item input:enabled + label {\n",
              "  cursor: pointer;\n",
              "  color: var(--xr-font-color2);\n",
              "}\n",
              "\n",
              ".xr-section-item input:enabled + label:hover {\n",
              "  color: var(--xr-font-color0);\n",
              "}\n",
              "\n",
              ".xr-section-summary {\n",
              "  grid-column: 1;\n",
              "  color: var(--xr-font-color2);\n",
              "  font-weight: 500;\n",
              "}\n",
              "\n",
              ".xr-section-summary > span {\n",
              "  display: inline-block;\n",
              "  padding-left: 0.5em;\n",
              "}\n",
              "\n",
              ".xr-section-summary-in:disabled + label {\n",
              "  color: var(--xr-font-color2);\n",
              "}\n",
              "\n",
              ".xr-section-summary-in + label:before {\n",
              "  display: inline-block;\n",
              "  content: '►';\n",
              "  font-size: 11px;\n",
              "  width: 15px;\n",
              "  text-align: center;\n",
              "}\n",
              "\n",
              ".xr-section-summary-in:disabled + label:before {\n",
              "  color: var(--xr-disabled-color);\n",
              "}\n",
              "\n",
              ".xr-section-summary-in:checked + label:before {\n",
              "  content: '▼';\n",
              "}\n",
              "\n",
              ".xr-section-summary-in:checked + label > span {\n",
              "  display: none;\n",
              "}\n",
              "\n",
              ".xr-section-summary,\n",
              ".xr-section-inline-details {\n",
              "  padding-top: 4px;\n",
              "  padding-bottom: 4px;\n",
              "}\n",
              "\n",
              ".xr-section-inline-details {\n",
              "  grid-column: 2 / -1;\n",
              "}\n",
              "\n",
              ".xr-section-details {\n",
              "  display: none;\n",
              "  grid-column: 1 / -1;\n",
              "  margin-bottom: 5px;\n",
              "}\n",
              "\n",
              ".xr-section-summary-in:checked ~ .xr-section-details {\n",
              "  display: contents;\n",
              "}\n",
              "\n",
              ".xr-array-wrap {\n",
              "  grid-column: 1 / -1;\n",
              "  display: grid;\n",
              "  grid-template-columns: 20px auto;\n",
              "}\n",
              "\n",
              ".xr-array-wrap > label {\n",
              "  grid-column: 1;\n",
              "  vertical-align: top;\n",
              "}\n",
              "\n",
              ".xr-preview {\n",
              "  color: var(--xr-font-color3);\n",
              "}\n",
              "\n",
              ".xr-array-preview,\n",
              ".xr-array-data {\n",
              "  padding: 0 5px !important;\n",
              "  grid-column: 2;\n",
              "}\n",
              "\n",
              ".xr-array-data,\n",
              ".xr-array-in:checked ~ .xr-array-preview {\n",
              "  display: none;\n",
              "}\n",
              "\n",
              ".xr-array-in:checked ~ .xr-array-data,\n",
              ".xr-array-preview {\n",
              "  display: inline-block;\n",
              "}\n",
              "\n",
              ".xr-dim-list {\n",
              "  display: inline-block !important;\n",
              "  list-style: none;\n",
              "  padding: 0 !important;\n",
              "  margin: 0;\n",
              "}\n",
              "\n",
              ".xr-dim-list li {\n",
              "  display: inline-block;\n",
              "  padding: 0;\n",
              "  margin: 0;\n",
              "}\n",
              "\n",
              ".xr-dim-list:before {\n",
              "  content: '(';\n",
              "}\n",
              "\n",
              ".xr-dim-list:after {\n",
              "  content: ')';\n",
              "}\n",
              "\n",
              ".xr-dim-list li:not(:last-child):after {\n",
              "  content: ',';\n",
              "  padding-right: 5px;\n",
              "}\n",
              "\n",
              ".xr-has-index {\n",
              "  font-weight: bold;\n",
              "}\n",
              "\n",
              ".xr-var-list,\n",
              ".xr-var-item {\n",
              "  display: contents;\n",
              "}\n",
              "\n",
              ".xr-var-item > div,\n",
              ".xr-var-item label,\n",
              ".xr-var-item > .xr-var-name span {\n",
              "  background-color: var(--xr-background-color-row-even);\n",
              "  margin-bottom: 0;\n",
              "}\n",
              "\n",
              ".xr-var-item > .xr-var-name:hover span {\n",
              "  padding-right: 5px;\n",
              "}\n",
              "\n",
              ".xr-var-list > li:nth-child(odd) > div,\n",
              ".xr-var-list > li:nth-child(odd) > label,\n",
              ".xr-var-list > li:nth-child(odd) > .xr-var-name span {\n",
              "  background-color: var(--xr-background-color-row-odd);\n",
              "}\n",
              "\n",
              ".xr-var-name {\n",
              "  grid-column: 1;\n",
              "}\n",
              "\n",
              ".xr-var-dims {\n",
              "  grid-column: 2;\n",
              "}\n",
              "\n",
              ".xr-var-dtype {\n",
              "  grid-column: 3;\n",
              "  text-align: right;\n",
              "  color: var(--xr-font-color2);\n",
              "}\n",
              "\n",
              ".xr-var-preview {\n",
              "  grid-column: 4;\n",
              "}\n",
              "\n",
              ".xr-index-preview {\n",
              "  grid-column: 2 / 5;\n",
              "  color: var(--xr-font-color2);\n",
              "}\n",
              "\n",
              ".xr-var-name,\n",
              ".xr-var-dims,\n",
              ".xr-var-dtype,\n",
              ".xr-preview,\n",
              ".xr-attrs dt {\n",
              "  white-space: nowrap;\n",
              "  overflow: hidden;\n",
              "  text-overflow: ellipsis;\n",
              "  padding-right: 10px;\n",
              "}\n",
              "\n",
              ".xr-var-name:hover,\n",
              ".xr-var-dims:hover,\n",
              ".xr-var-dtype:hover,\n",
              ".xr-attrs dt:hover {\n",
              "  overflow: visible;\n",
              "  width: auto;\n",
              "  z-index: 1;\n",
              "}\n",
              "\n",
              ".xr-var-attrs,\n",
              ".xr-var-data,\n",
              ".xr-index-data {\n",
              "  display: none;\n",
              "  background-color: var(--xr-background-color) !important;\n",
              "  padding-bottom: 5px !important;\n",
              "}\n",
              "\n",
              ".xr-var-attrs-in:checked ~ .xr-var-attrs,\n",
              ".xr-var-data-in:checked ~ .xr-var-data,\n",
              ".xr-index-data-in:checked ~ .xr-index-data {\n",
              "  display: block;\n",
              "}\n",
              "\n",
              ".xr-var-data > table {\n",
              "  float: right;\n",
              "}\n",
              "\n",
              ".xr-var-name span,\n",
              ".xr-var-data,\n",
              ".xr-index-name div,\n",
              ".xr-index-data,\n",
              ".xr-attrs {\n",
              "  padding-left: 25px !important;\n",
              "}\n",
              "\n",
              ".xr-attrs,\n",
              ".xr-var-attrs,\n",
              ".xr-var-data,\n",
              ".xr-index-data {\n",
              "  grid-column: 1 / -1;\n",
              "}\n",
              "\n",
              "dl.xr-attrs {\n",
              "  padding: 0;\n",
              "  margin: 0;\n",
              "  display: grid;\n",
              "  grid-template-columns: 125px auto;\n",
              "}\n",
              "\n",
              ".xr-attrs dt,\n",
              ".xr-attrs dd {\n",
              "  padding: 0;\n",
              "  margin: 0;\n",
              "  float: left;\n",
              "  padding-right: 10px;\n",
              "  width: auto;\n",
              "}\n",
              "\n",
              ".xr-attrs dt {\n",
              "  font-weight: normal;\n",
              "  grid-column: 1;\n",
              "}\n",
              "\n",
              ".xr-attrs dt:hover span {\n",
              "  display: inline-block;\n",
              "  background: var(--xr-background-color);\n",
              "  padding-right: 10px;\n",
              "}\n",
              "\n",
              ".xr-attrs dd {\n",
              "  grid-column: 2;\n",
              "  white-space: pre-wrap;\n",
              "  word-break: break-all;\n",
              "}\n",
              "\n",
              ".xr-icon-database,\n",
              ".xr-icon-file-text2,\n",
              ".xr-no-icon {\n",
              "  display: inline-block;\n",
              "  vertical-align: middle;\n",
              "  width: 1em;\n",
              "  height: 1.5em !important;\n",
              "  stroke-width: 0;\n",
              "  stroke: currentColor;\n",
              "  fill: currentColor;\n",
              "}\n",
              "</style><pre class='xr-text-repr-fallback'>&lt;xarray.DataArray &#x27;precip&#x27; (time: 31, latitude: 78, longitude: 121)&gt;\n",
              "array([[[nan, nan, nan, ..., nan, nan, nan],\n",
              "        [nan, nan, nan, ..., nan, nan, nan],\n",
              "        [nan, nan, nan, ..., nan, nan, nan],\n",
              "        ...,\n",
              "        [nan, nan, nan, ..., nan, nan, nan],\n",
              "        [nan, nan, nan, ..., nan, nan, nan],\n",
              "        [nan, nan, nan, ..., nan, nan, nan]],\n",
              "\n",
              "       [[nan, nan, nan, ..., nan, nan, nan],\n",
              "        [nan, nan, nan, ..., nan, nan, nan],\n",
              "        [nan, nan, nan, ..., nan, nan, nan],\n",
              "        ...,\n",
              "        [nan, nan, nan, ..., nan, nan, nan],\n",
              "        [nan, nan, nan, ..., nan, nan, nan],\n",
              "        [nan, nan, nan, ..., nan, nan, nan]],\n",
              "\n",
              "       [[nan, nan, nan, ..., nan, nan, nan],\n",
              "        [nan, nan, nan, ..., nan, nan, nan],\n",
              "        [nan, nan, nan, ..., nan, nan, nan],\n",
              "        ...,\n",
              "...\n",
              "        ...,\n",
              "        [nan, nan, nan, ..., nan, nan, nan],\n",
              "        [nan, nan, nan, ..., nan, nan, nan],\n",
              "        [nan, nan, nan, ..., nan, nan, nan]],\n",
              "\n",
              "       [[nan, nan, nan, ..., nan, nan, nan],\n",
              "        [nan, nan, nan, ..., nan, nan, nan],\n",
              "        [nan, nan, nan, ..., nan, nan, nan],\n",
              "        ...,\n",
              "        [nan, nan, nan, ..., nan, nan, nan],\n",
              "        [nan, nan, nan, ..., nan, nan, nan],\n",
              "        [nan, nan, nan, ..., nan, nan, nan]],\n",
              "\n",
              "       [[nan, nan, nan, ..., nan, nan, nan],\n",
              "        [nan, nan, nan, ..., nan, nan, nan],\n",
              "        [nan, nan, nan, ..., nan, nan, nan],\n",
              "        ...,\n",
              "        [nan, nan, nan, ..., nan, nan, nan],\n",
              "        [nan, nan, nan, ..., nan, nan, nan],\n",
              "        [nan, nan, nan, ..., nan, nan, nan]]], dtype=float32)\n",
              "Coordinates:\n",
              "  * latitude   (latitude) float32 -49.5 -49.0 -48.5 -48.0 ... -12.0 -11.5 -11.0\n",
              "  * longitude  (longitude) float32 -90.0 -89.5 -89.0 -88.5 ... -31.0 -30.5 -30.0\n",
              "  * time       (time) datetime64[ns] 2022-12-01 2022-12-02 ... 2022-12-31\n",
              "Attributes:\n",
              "    units:               mm/day\n",
              "    standard_name:       convective precipitation rate\n",
              "    long_name:           Climate Hazards group InfraRed Precipitation with St...\n",
              "    time_step:           day\n",
              "    geostatial_lat_min:  -50.0\n",
              "    geostatial_lat_max:  50.0\n",
              "    geostatial_lon_min:  -180.0\n",
              "    geostatial_lon_max:  180.0</pre><div class='xr-wrap' style='display:none'><div class='xr-header'><div class='xr-obj-type'>xarray.DataArray</div><div class='xr-array-name'>'precip'</div><ul class='xr-dim-list'><li><span class='xr-has-index'>time</span>: 31</li><li><span class='xr-has-index'>latitude</span>: 78</li><li><span class='xr-has-index'>longitude</span>: 121</li></ul></div><ul class='xr-sections'><li class='xr-section-item'><div class='xr-array-wrap'><input id='section-883f452a-23cb-4d9b-8a4e-cf550ce13c89' class='xr-array-in' type='checkbox' checked><label for='section-883f452a-23cb-4d9b-8a4e-cf550ce13c89' title='Show/hide data repr'><svg class='icon xr-icon-database'><use xlink:href='#icon-database'></use></svg></label><div class='xr-array-preview xr-preview'><span>nan nan nan nan nan nan nan nan ... nan nan nan nan nan nan nan nan</span></div><div class='xr-array-data'><pre>array([[[nan, nan, nan, ..., nan, nan, nan],\n",
              "        [nan, nan, nan, ..., nan, nan, nan],\n",
              "        [nan, nan, nan, ..., nan, nan, nan],\n",
              "        ...,\n",
              "        [nan, nan, nan, ..., nan, nan, nan],\n",
              "        [nan, nan, nan, ..., nan, nan, nan],\n",
              "        [nan, nan, nan, ..., nan, nan, nan]],\n",
              "\n",
              "       [[nan, nan, nan, ..., nan, nan, nan],\n",
              "        [nan, nan, nan, ..., nan, nan, nan],\n",
              "        [nan, nan, nan, ..., nan, nan, nan],\n",
              "        ...,\n",
              "        [nan, nan, nan, ..., nan, nan, nan],\n",
              "        [nan, nan, nan, ..., nan, nan, nan],\n",
              "        [nan, nan, nan, ..., nan, nan, nan]],\n",
              "\n",
              "       [[nan, nan, nan, ..., nan, nan, nan],\n",
              "        [nan, nan, nan, ..., nan, nan, nan],\n",
              "        [nan, nan, nan, ..., nan, nan, nan],\n",
              "        ...,\n",
              "...\n",
              "        ...,\n",
              "        [nan, nan, nan, ..., nan, nan, nan],\n",
              "        [nan, nan, nan, ..., nan, nan, nan],\n",
              "        [nan, nan, nan, ..., nan, nan, nan]],\n",
              "\n",
              "       [[nan, nan, nan, ..., nan, nan, nan],\n",
              "        [nan, nan, nan, ..., nan, nan, nan],\n",
              "        [nan, nan, nan, ..., nan, nan, nan],\n",
              "        ...,\n",
              "        [nan, nan, nan, ..., nan, nan, nan],\n",
              "        [nan, nan, nan, ..., nan, nan, nan],\n",
              "        [nan, nan, nan, ..., nan, nan, nan]],\n",
              "\n",
              "       [[nan, nan, nan, ..., nan, nan, nan],\n",
              "        [nan, nan, nan, ..., nan, nan, nan],\n",
              "        [nan, nan, nan, ..., nan, nan, nan],\n",
              "        ...,\n",
              "        [nan, nan, nan, ..., nan, nan, nan],\n",
              "        [nan, nan, nan, ..., nan, nan, nan],\n",
              "        [nan, nan, nan, ..., nan, nan, nan]]], dtype=float32)</pre></div></div></li><li class='xr-section-item'><input id='section-baa9f7d9-d258-494e-b560-c01075a5f925' class='xr-section-summary-in' type='checkbox'  checked><label for='section-baa9f7d9-d258-494e-b560-c01075a5f925' class='xr-section-summary' >Coordinates: <span>(3)</span></label><div class='xr-section-inline-details'></div><div class='xr-section-details'><ul class='xr-var-list'><li class='xr-var-item'><div class='xr-var-name'><span class='xr-has-index'>latitude</span></div><div class='xr-var-dims'>(latitude)</div><div class='xr-var-dtype'>float32</div><div class='xr-var-preview xr-preview'>-49.5 -49.0 -48.5 ... -11.5 -11.0</div><input id='attrs-e87d32fe-665d-49b9-922a-937a20dbb3fd' class='xr-var-attrs-in' type='checkbox' ><label for='attrs-e87d32fe-665d-49b9-922a-937a20dbb3fd' title='Show/Hide attributes'><svg class='icon xr-icon-file-text2'><use xlink:href='#icon-file-text2'></use></svg></label><input id='data-04945cbe-03a6-42fd-a0c6-cea1ab27179a' class='xr-var-data-in' type='checkbox'><label for='data-04945cbe-03a6-42fd-a0c6-cea1ab27179a' title='Show/Hide data repr'><svg class='icon xr-icon-database'><use xlink:href='#icon-database'></use></svg></label><div class='xr-var-attrs'><dl class='xr-attrs'><dt><span>units :</span></dt><dd>degrees_north</dd><dt><span>standard_name :</span></dt><dd>latitude</dd><dt><span>long_name :</span></dt><dd>latitude</dd><dt><span>axis :</span></dt><dd>Y</dd></dl></div><div class='xr-var-data'><pre>array([-49.499996, -48.999996, -48.499996, -47.999996, -47.499996, -46.999996,\n",
              "       -46.499996, -45.999996, -45.499996, -44.999996, -44.499996, -43.999996,\n",
              "       -43.499996, -42.999996, -42.499996, -41.999996, -41.499996, -40.999996,\n",
              "       -40.499996, -39.999996, -39.499996, -38.999996, -38.499996, -37.999996,\n",
              "       -37.499996, -36.999996, -36.499996, -35.999996, -35.5     , -35.      ,\n",
              "       -34.5     , -33.999996, -33.499996, -32.999996, -32.499996, -32.      ,\n",
              "       -31.5     , -31.      , -30.5     , -30.      , -29.5     , -29.      ,\n",
              "       -28.5     , -28.      , -27.5     , -27.      , -26.5     , -26.      ,\n",
              "       -25.5     , -25.      , -24.5     , -24.      , -23.5     , -23.      ,\n",
              "       -22.5     , -22.      , -21.5     , -21.      , -20.5     , -20.      ,\n",
              "       -19.5     , -19.      , -18.5     , -18.      , -17.5     , -17.      ,\n",
              "       -16.5     , -16.      , -15.5     , -15.      , -14.5     , -14.      ,\n",
              "       -13.5     , -13.      , -12.500001, -12.000001, -11.500001, -11.000001],\n",
              "      dtype=float32)</pre></div></li><li class='xr-var-item'><div class='xr-var-name'><span class='xr-has-index'>longitude</span></div><div class='xr-var-dims'>(longitude)</div><div class='xr-var-dtype'>float32</div><div class='xr-var-preview xr-preview'>-90.0 -89.5 -89.0 ... -30.5 -30.0</div><input id='attrs-bc8703b0-c2cd-4072-9e32-0dc2f8b076f3' class='xr-var-attrs-in' type='checkbox' ><label for='attrs-bc8703b0-c2cd-4072-9e32-0dc2f8b076f3' title='Show/Hide attributes'><svg class='icon xr-icon-file-text2'><use xlink:href='#icon-file-text2'></use></svg></label><input id='data-f0402792-1be0-45ee-8d65-8c577fb3c2a1' class='xr-var-data-in' type='checkbox'><label for='data-f0402792-1be0-45ee-8d65-8c577fb3c2a1' title='Show/Hide data repr'><svg class='icon xr-icon-database'><use xlink:href='#icon-database'></use></svg></label><div class='xr-var-attrs'><dl class='xr-attrs'><dt><span>units :</span></dt><dd>degrees_east</dd><dt><span>standard_name :</span></dt><dd>longitude</dd><dt><span>long_name :</span></dt><dd>longitude</dd><dt><span>axis :</span></dt><dd>X</dd></dl></div><div class='xr-var-data'><pre>array([-90.00001 , -89.50001 , -89.00001 , -88.50001 , -88.00001 , -87.50001 ,\n",
              "       -87.00001 , -86.50001 , -86.00001 , -85.50001 , -85.00001 , -84.50001 ,\n",
              "       -84.00001 , -83.50001 , -83.00001 , -82.50001 , -82.00001 , -81.50001 ,\n",
              "       -81.00001 , -80.50001 , -80.00001 , -79.50001 , -79.00001 , -78.50001 ,\n",
              "       -78.00001 , -77.50001 , -77.00001 , -76.50001 , -76.00001 , -75.50001 ,\n",
              "       -75.00001 , -74.50001 , -74.00001 , -73.50001 , -73.00001 , -72.50001 ,\n",
              "       -72.00001 , -71.50001 , -71.00001 , -70.50001 , -70.00001 , -69.50001 ,\n",
              "       -69.00001 , -68.50001 , -68.00001 , -67.50001 , -67.00001 , -66.50001 ,\n",
              "       -66.00001 , -65.50001 , -65.00001 , -64.50001 , -64.00001 , -63.500008,\n",
              "       -63.000008, -62.500008, -62.000008, -61.500008, -61.000008, -60.500008,\n",
              "       -60.000008, -59.500008, -59.000008, -58.500008, -58.000008, -57.500008,\n",
              "       -57.000008, -56.500008, -56.000008, -55.500008, -55.000008, -54.500008,\n",
              "       -54.000008, -53.500008, -53.000008, -52.500008, -52.000008, -51.500008,\n",
              "       -51.000008, -50.500008, -50.000008, -49.500008, -49.000008, -48.500008,\n",
              "       -48.000008, -47.500008, -47.000008, -46.500008, -46.000008, -45.500008,\n",
              "       -45.000008, -44.500008, -44.000008, -43.500008, -43.000008, -42.500008,\n",
              "       -42.000008, -41.500008, -41.000008, -40.500008, -40.000008, -39.500008,\n",
              "       -39.000008, -38.500008, -38.000008, -37.500008, -37.000008, -36.500008,\n",
              "       -36.000008, -35.500008, -35.000008, -34.500008, -34.000008, -33.500008,\n",
              "       -33.000008, -32.500008, -32.000008, -31.500006, -31.000006, -30.500006,\n",
              "       -30.000006], dtype=float32)</pre></div></li><li class='xr-var-item'><div class='xr-var-name'><span class='xr-has-index'>time</span></div><div class='xr-var-dims'>(time)</div><div class='xr-var-dtype'>datetime64[ns]</div><div class='xr-var-preview xr-preview'>2022-12-01 ... 2022-12-31</div><input id='attrs-78dee8cb-50d1-480a-a753-60d5de234ea4' class='xr-var-attrs-in' type='checkbox' ><label for='attrs-78dee8cb-50d1-480a-a753-60d5de234ea4' title='Show/Hide attributes'><svg class='icon xr-icon-file-text2'><use xlink:href='#icon-file-text2'></use></svg></label><input id='data-35902429-882a-4e9c-a5cf-ee3b41339f42' class='xr-var-data-in' type='checkbox'><label for='data-35902429-882a-4e9c-a5cf-ee3b41339f42' title='Show/Hide data repr'><svg class='icon xr-icon-database'><use xlink:href='#icon-database'></use></svg></label><div class='xr-var-attrs'><dl class='xr-attrs'><dt><span>standard_name :</span></dt><dd>time</dd><dt><span>axis :</span></dt><dd>T</dd></dl></div><div class='xr-var-data'><pre>array([&#x27;2022-12-01T00:00:00.000000000&#x27;, &#x27;2022-12-02T00:00:00.000000000&#x27;,\n",
              "       &#x27;2022-12-03T00:00:00.000000000&#x27;, &#x27;2022-12-04T00:00:00.000000000&#x27;,\n",
              "       &#x27;2022-12-05T00:00:00.000000000&#x27;, &#x27;2022-12-06T00:00:00.000000000&#x27;,\n",
              "       &#x27;2022-12-07T00:00:00.000000000&#x27;, &#x27;2022-12-08T00:00:00.000000000&#x27;,\n",
              "       &#x27;2022-12-09T00:00:00.000000000&#x27;, &#x27;2022-12-10T00:00:00.000000000&#x27;,\n",
              "       &#x27;2022-12-11T00:00:00.000000000&#x27;, &#x27;2022-12-12T00:00:00.000000000&#x27;,\n",
              "       &#x27;2022-12-13T00:00:00.000000000&#x27;, &#x27;2022-12-14T00:00:00.000000000&#x27;,\n",
              "       &#x27;2022-12-15T00:00:00.000000000&#x27;, &#x27;2022-12-16T00:00:00.000000000&#x27;,\n",
              "       &#x27;2022-12-17T00:00:00.000000000&#x27;, &#x27;2022-12-18T00:00:00.000000000&#x27;,\n",
              "       &#x27;2022-12-19T00:00:00.000000000&#x27;, &#x27;2022-12-20T00:00:00.000000000&#x27;,\n",
              "       &#x27;2022-12-21T00:00:00.000000000&#x27;, &#x27;2022-12-22T00:00:00.000000000&#x27;,\n",
              "       &#x27;2022-12-23T00:00:00.000000000&#x27;, &#x27;2022-12-24T00:00:00.000000000&#x27;,\n",
              "       &#x27;2022-12-25T00:00:00.000000000&#x27;, &#x27;2022-12-26T00:00:00.000000000&#x27;,\n",
              "       &#x27;2022-12-27T00:00:00.000000000&#x27;, &#x27;2022-12-28T00:00:00.000000000&#x27;,\n",
              "       &#x27;2022-12-29T00:00:00.000000000&#x27;, &#x27;2022-12-30T00:00:00.000000000&#x27;,\n",
              "       &#x27;2022-12-31T00:00:00.000000000&#x27;], dtype=&#x27;datetime64[ns]&#x27;)</pre></div></li></ul></div></li><li class='xr-section-item'><input id='section-13d0b866-54c9-40c0-adfe-b485b27dc91e' class='xr-section-summary-in' type='checkbox'  ><label for='section-13d0b866-54c9-40c0-adfe-b485b27dc91e' class='xr-section-summary' >Indexes: <span>(3)</span></label><div class='xr-section-inline-details'></div><div class='xr-section-details'><ul class='xr-var-list'><li class='xr-var-item'><div class='xr-index-name'><div>latitude</div></div><div class='xr-index-preview'>PandasIndex</div><div></div><input id='index-d9f60aa0-fa7d-49ea-a70c-6348fad6934d' class='xr-index-data-in' type='checkbox'/><label for='index-d9f60aa0-fa7d-49ea-a70c-6348fad6934d' title='Show/Hide index repr'><svg class='icon xr-icon-database'><use xlink:href='#icon-database'></use></svg></label><div class='xr-index-data'><pre>PandasIndex(Float64Index([-49.499996185302734, -48.999996185302734, -48.499996185302734,\n",
              "              -47.999996185302734, -47.499996185302734, -46.999996185302734,\n",
              "              -46.499996185302734, -45.999996185302734, -45.499996185302734,\n",
              "              -44.999996185302734, -44.499996185302734, -43.999996185302734,\n",
              "              -43.499996185302734, -42.999996185302734, -42.499996185302734,\n",
              "              -41.999996185302734, -41.499996185302734, -40.999996185302734,\n",
              "              -40.499996185302734, -39.999996185302734, -39.499996185302734,\n",
              "              -38.999996185302734, -38.499996185302734, -37.999996185302734,\n",
              "              -37.499996185302734, -36.999996185302734, -36.499996185302734,\n",
              "              -35.999996185302734,               -35.5,               -35.0,\n",
              "                            -34.5, -33.999996185302734, -33.499996185302734,\n",
              "              -32.999996185302734, -32.499996185302734,               -32.0,\n",
              "                            -31.5,               -31.0,               -30.5,\n",
              "                            -30.0,               -29.5,               -29.0,\n",
              "                            -28.5,               -28.0,               -27.5,\n",
              "                            -27.0,               -26.5,               -26.0,\n",
              "                            -25.5,               -25.0,               -24.5,\n",
              "                            -24.0,               -23.5,               -23.0,\n",
              "                            -22.5,               -22.0,               -21.5,\n",
              "                            -21.0,               -20.5,               -20.0,\n",
              "                            -19.5,               -19.0,               -18.5,\n",
              "                            -18.0,               -17.5,               -17.0,\n",
              "                            -16.5,               -16.0,               -15.5,\n",
              "                            -15.0,               -14.5,               -14.0,\n",
              "                            -13.5,               -13.0, -12.500000953674316,\n",
              "              -12.000000953674316, -11.500000953674316, -11.000000953674316],\n",
              "             dtype=&#x27;float64&#x27;, name=&#x27;latitude&#x27;))</pre></div></li><li class='xr-var-item'><div class='xr-index-name'><div>longitude</div></div><div class='xr-index-preview'>PandasIndex</div><div></div><input id='index-5467269f-1a66-4668-b4f3-cf5c1f98b45a' class='xr-index-data-in' type='checkbox'/><label for='index-5467269f-1a66-4668-b4f3-cf5c1f98b45a' title='Show/Hide index repr'><svg class='icon xr-icon-database'><use xlink:href='#icon-database'></use></svg></label><div class='xr-index-data'><pre>PandasIndex(Float64Index([-90.00000762939453, -89.50000762939453, -89.00000762939453,\n",
              "              -88.50000762939453, -88.00000762939453, -87.50000762939453,\n",
              "              -87.00000762939453, -86.50000762939453, -86.00000762939453,\n",
              "              -85.50000762939453,\n",
              "              ...\n",
              "              -34.50000762939453, -34.00000762939453, -33.50000762939453,\n",
              "              -33.00000762939453, -32.50000762939453, -32.00000762939453,\n",
              "               -31.5000057220459,  -31.0000057220459,  -30.5000057220459,\n",
              "               -30.0000057220459],\n",
              "             dtype=&#x27;float64&#x27;, name=&#x27;longitude&#x27;, length=121))</pre></div></li><li class='xr-var-item'><div class='xr-index-name'><div>time</div></div><div class='xr-index-preview'>PandasIndex</div><div></div><input id='index-56a52e85-5c6e-4a5e-a61e-a854b874e82b' class='xr-index-data-in' type='checkbox'/><label for='index-56a52e85-5c6e-4a5e-a61e-a854b874e82b' title='Show/Hide index repr'><svg class='icon xr-icon-database'><use xlink:href='#icon-database'></use></svg></label><div class='xr-index-data'><pre>PandasIndex(DatetimeIndex([&#x27;2022-12-01&#x27;, &#x27;2022-12-02&#x27;, &#x27;2022-12-03&#x27;, &#x27;2022-12-04&#x27;,\n",
              "               &#x27;2022-12-05&#x27;, &#x27;2022-12-06&#x27;, &#x27;2022-12-07&#x27;, &#x27;2022-12-08&#x27;,\n",
              "               &#x27;2022-12-09&#x27;, &#x27;2022-12-10&#x27;, &#x27;2022-12-11&#x27;, &#x27;2022-12-12&#x27;,\n",
              "               &#x27;2022-12-13&#x27;, &#x27;2022-12-14&#x27;, &#x27;2022-12-15&#x27;, &#x27;2022-12-16&#x27;,\n",
              "               &#x27;2022-12-17&#x27;, &#x27;2022-12-18&#x27;, &#x27;2022-12-19&#x27;, &#x27;2022-12-20&#x27;,\n",
              "               &#x27;2022-12-21&#x27;, &#x27;2022-12-22&#x27;, &#x27;2022-12-23&#x27;, &#x27;2022-12-24&#x27;,\n",
              "               &#x27;2022-12-25&#x27;, &#x27;2022-12-26&#x27;, &#x27;2022-12-27&#x27;, &#x27;2022-12-28&#x27;,\n",
              "               &#x27;2022-12-29&#x27;, &#x27;2022-12-30&#x27;, &#x27;2022-12-31&#x27;],\n",
              "              dtype=&#x27;datetime64[ns]&#x27;, name=&#x27;time&#x27;, freq=None))</pre></div></li></ul></div></li><li class='xr-section-item'><input id='section-53ee6584-61be-4867-bf69-a0c19d67b371' class='xr-section-summary-in' type='checkbox'  checked><label for='section-53ee6584-61be-4867-bf69-a0c19d67b371' class='xr-section-summary' >Attributes: <span>(8)</span></label><div class='xr-section-inline-details'></div><div class='xr-section-details'><dl class='xr-attrs'><dt><span>units :</span></dt><dd>mm/day</dd><dt><span>standard_name :</span></dt><dd>convective precipitation rate</dd><dt><span>long_name :</span></dt><dd>Climate Hazards group InfraRed Precipitation with Stations</dd><dt><span>time_step :</span></dt><dd>day</dd><dt><span>geostatial_lat_min :</span></dt><dd>-50.0</dd><dt><span>geostatial_lat_max :</span></dt><dd>50.0</dd><dt><span>geostatial_lon_min :</span></dt><dd>-180.0</dd><dt><span>geostatial_lon_max :</span></dt><dd>180.0</dd></dl></div></li></ul></div></div>"
            ]
          },
          "metadata": {},
          "execution_count": 87
        }
      ]
    },
    {
      "cell_type": "code",
      "source": [
        "ds_sa.isel(time=0).plot()"
      ],
      "metadata": {
        "colab": {
          "base_uri": "https://localhost:8080/",
          "height": 313
        },
        "id": "sRCGPA2YhYpL",
        "outputId": "0f2ee59e-b4be-434e-9e7c-eb2e5fd227db"
      },
      "execution_count": null,
      "outputs": [
        {
          "output_type": "execute_result",
          "data": {
            "text/plain": [
              "<matplotlib.collections.QuadMesh at 0x7fc3466c2cd0>"
            ]
          },
          "metadata": {},
          "execution_count": 61
        },
        {
          "output_type": "display_data",
          "data": {
            "text/plain": [
              "<Figure size 432x288 with 2 Axes>"
            ],
            "image/png": "[encoded data removed]"
          },
          "metadata": {
            "needs_background": "light"
          }
        }
      ]
    },
    {
      "cell_type": "code",
      "source": [
        "ds_sa_down.isel(time=0).plot()"
      ],
      "metadata": {
        "colab": {
          "base_uri": "https://localhost:8080/",
          "height": 313
        },
        "id": "39s4SW-rhfaa",
        "outputId": "5469c9ea-e3d0-46b8-c3ea-dd00ac7c7f0f"
      },
      "execution_count": null,
      "outputs": [
        {
          "output_type": "execute_result",
          "data": {
            "text/plain": [
              "<matplotlib.collections.QuadMesh at 0x7fc346746f10>"
            ]
          },
          "metadata": {},
          "execution_count": 16
        },
        {
          "output_type": "display_data",
          "data": {
            "text/plain": [
              "<Figure size 432x288 with 2 Axes>"
            ],
            "image/png": "[encoded data removed]"
          },
          "metadata": {
            "needs_background": "light"
          }
        }
      ]
    },
    {
      "cell_type": "code",
      "source": [
        "  # Guardo\n",
        "ds_sa_down.to_netcdf(\"interpo_SA.nc\")"
      ],
      "metadata": {
        "id": "YhQQVXm7h3h6"
      },
      "execution_count": null,
      "outputs": []
    },
    {
      "cell_type": "code",
      "source": [
        "print(ds_sa_down.indexes['latitude'])\n",
        "print(ds_sa_down.indexes['longitude'])"
      ],
      "metadata": {
        "colab": {
          "base_uri": "https://localhost:8080/"
        },
        "id": "wBkPNmXYoGhL",
        "outputId": "ffc7d11e-d9fe-4d13-d961-11297f7c2c43"
      },
      "execution_count": null,
      "outputs": [
        {
          "output_type": "stream",
          "name": "stdout",
          "text": [
            "Float64Index([-49.499996185302734, -48.999996185302734, -48.499996185302734,\n",
            "              -47.999996185302734, -47.499996185302734, -46.999996185302734,\n",
            "              -46.499996185302734, -45.999996185302734, -45.499996185302734,\n",
            "              -44.999996185302734, -44.499996185302734, -43.999996185302734,\n",
            "              -43.499996185302734, -42.999996185302734, -42.499996185302734,\n",
            "              -41.999996185302734, -41.499996185302734, -40.999996185302734,\n",
            "              -40.499996185302734, -39.999996185302734, -39.499996185302734,\n",
            "              -38.999996185302734, -38.499996185302734, -37.999996185302734,\n",
            "              -37.499996185302734, -36.999996185302734, -36.499996185302734,\n",
            "              -35.999996185302734,               -35.5,               -35.0,\n",
            "                            -34.5, -33.999996185302734, -33.499996185302734,\n",
            "              -32.999996185302734, -32.499996185302734,               -32.0,\n",
            "                            -31.5,               -31.0,               -30.5,\n",
            "                            -30.0,               -29.5,               -29.0,\n",
            "                            -28.5,               -28.0,               -27.5,\n",
            "                            -27.0,               -26.5,               -26.0,\n",
            "                            -25.5,               -25.0,               -24.5,\n",
            "                            -24.0,               -23.5,               -23.0,\n",
            "                            -22.5,               -22.0,               -21.5,\n",
            "                            -21.0,               -20.5,               -20.0,\n",
            "                            -19.5,               -19.0,               -18.5,\n",
            "                            -18.0,               -17.5,               -17.0,\n",
            "                            -16.5,               -16.0,               -15.5,\n",
            "                            -15.0,               -14.5,               -14.0,\n",
            "                            -13.5,               -13.0, -12.500000953674316,\n",
            "              -12.000000953674316, -11.500000953674316, -11.000000953674316],\n",
            "             dtype='float64', name='latitude')\n",
            "Float64Index([-90.00000762939453, -89.50000762939453, -89.00000762939453,\n",
            "              -88.50000762939453, -88.00000762939453, -87.50000762939453,\n",
            "              -87.00000762939453, -86.50000762939453, -86.00000762939453,\n",
            "              -85.50000762939453,\n",
            "              ...\n",
            "              -34.50000762939453, -34.00000762939453, -33.50000762939453,\n",
            "              -33.00000762939453, -32.50000762939453, -32.00000762939453,\n",
            "               -31.5000057220459,  -31.0000057220459,  -30.5000057220459,\n",
            "               -30.0000057220459],\n",
            "             dtype='float64', name='longitude', length=121)\n"
          ]
        }
      ]
    }
  ]
}